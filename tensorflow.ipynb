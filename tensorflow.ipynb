{
  "nbformat": 4,
  "nbformat_minor": 0,
  "metadata": {
    "colab": {
      "name": "tensorflow.ipynb",
      "version": "0.3.2",
      "provenance": [],
      "collapsed_sections": [],
      "include_colab_link": true
    },
    "kernelspec": {
      "name": "python3",
      "display_name": "Python 3"
    }
  },
  "cells": [
    {
      "cell_type": "markdown",
      "metadata": {
        "id": "view-in-github",
        "colab_type": "text"
      },
      "source": [
        "[View in Colaboratory](https://colab.research.google.com/github/jvargh81/Article/blob/master/tensorflow.ipynb)"
      ]
    },
    {
      "metadata": {
        "id": "QClHinlVAyLo",
        "colab_type": "code",
        "colab": {}
      },
      "cell_type": "code",
      "source": [
        "import tensorflow as tf"
      ],
      "execution_count": 0,
      "outputs": []
    },
    {
      "metadata": {
        "id": "1NCIY3TLA4fI",
        "colab_type": "code",
        "colab": {
          "base_uri": "https://localhost:8080/",
          "height": 54
        },
        "outputId": "73c48cc8-548a-4f5e-f746-5dc642f5f32c"
      },
      "cell_type": "code",
      "source": [
        "x1 = tf.constant(4)\n",
        "x2 = tf.constant(5)\n",
        "y  = tf.add(x1,x2)\n",
        "\n",
        "s1 = tf.Session()\n",
        "print(s1.run(y))\n",
        "s1.close"
      ],
      "execution_count": 2,
      "outputs": [
        {
          "output_type": "stream",
          "text": [
            "9\n"
          ],
          "name": "stdout"
        },
        {
          "output_type": "execute_result",
          "data": {
            "text/plain": [
              "<bound method BaseSession.close of <tensorflow.python.client.session.Session object at 0x7f521881ac18>>"
            ]
          },
          "metadata": {
            "tags": []
          },
          "execution_count": 2
        }
      ]
    },
    {
      "metadata": {
        "id": "ca78rDnCBXuH",
        "colab_type": "code",
        "colab": {
          "base_uri": "https://localhost:8080/",
          "height": 36
        },
        "outputId": "1d3486ce-f271-477f-f311-c63d8b52eb4d"
      },
      "cell_type": "code",
      "source": [
        "x1 = tf.constant(\"Jerrin Joe \")\n",
        "x2 = tf.constant(\"Varghese\")\n",
        "y  = tf.add(x1,x2)\n",
        "\n",
        "with tf.Session() as s1:\n",
        "  print(y.eval())"
      ],
      "execution_count": 3,
      "outputs": [
        {
          "output_type": "stream",
          "text": [
            "b'Jerrin Joe Varghese'\n"
          ],
          "name": "stdout"
        }
      ]
    },
    {
      "metadata": {
        "id": "Itadi1V_CVSZ",
        "colab_type": "code",
        "colab": {
          "base_uri": "https://localhost:8080/",
          "height": 74
        },
        "outputId": "4ea0d3e3-22e2-4428-9317-c9ac50c6b2b3"
      },
      "cell_type": "code",
      "source": [
        "# place holder : Are not assigned any value, given value at execution time.\n",
        "graph = tf.get_default_graph()\n",
        "\n",
        "x = tf.placeholder(tf.float32)\n",
        "y = tf.add(x,x)\n",
        "\n",
        "with tf.Session() as s1:\n",
        "  print(y.eval({x:[1,2,3,4,5,6,7,8,9,10]}))\n",
        "\n",
        "\n",
        "print(graph.get_operations())"
      ],
      "execution_count": 4,
      "outputs": [
        {
          "output_type": "stream",
          "text": [
            "[ 2.  4.  6.  8. 10. 12. 14. 16. 18. 20.]\n",
            "[<tf.Operation 'Const' type=Const>, <tf.Operation 'Const_1' type=Const>, <tf.Operation 'Add' type=Add>, <tf.Operation 'Const_2' type=Const>, <tf.Operation 'Const_3' type=Const>, <tf.Operation 'Add_1' type=Add>, <tf.Operation 'Placeholder' type=Placeholder>, <tf.Operation 'Add_2' type=Add>]\n"
          ],
          "name": "stdout"
        }
      ]
    },
    {
      "metadata": {
        "id": "PHatgQjhD9o6",
        "colab_type": "code",
        "colab": {
          "base_uri": "https://localhost:8080/",
          "height": 93
        },
        "outputId": "0806f76b-bf89-4729-a8f9-70f0e2049596"
      },
      "cell_type": "code",
      "source": [
        "graph = tf.get_default_graph()\n",
        "\n",
        "x1 = tf.constant(4,name=\"x1\")\n",
        "\n",
        "print(graph.get_operations())\n",
        "\n",
        "x2 = tf.constant(4,name=\"x2\")\n",
        "\n",
        "print(graph.get_operations())\n",
        "\n",
        "y = tf.add(x1,x2,name=\"y\")\n",
        "\n",
        "print(graph.get_operations())\n",
        "\n",
        "with tf.Session() as s1:\n",
        "  y.eval()\n"
      ],
      "execution_count": 5,
      "outputs": [
        {
          "output_type": "stream",
          "text": [
            "[<tf.Operation 'Const' type=Const>, <tf.Operation 'Const_1' type=Const>, <tf.Operation 'Add' type=Add>, <tf.Operation 'Const_2' type=Const>, <tf.Operation 'Const_3' type=Const>, <tf.Operation 'Add_1' type=Add>, <tf.Operation 'Placeholder' type=Placeholder>, <tf.Operation 'Add_2' type=Add>, <tf.Operation 'x1' type=Const>]\n",
            "[<tf.Operation 'Const' type=Const>, <tf.Operation 'Const_1' type=Const>, <tf.Operation 'Add' type=Add>, <tf.Operation 'Const_2' type=Const>, <tf.Operation 'Const_3' type=Const>, <tf.Operation 'Add_1' type=Add>, <tf.Operation 'Placeholder' type=Placeholder>, <tf.Operation 'Add_2' type=Add>, <tf.Operation 'x1' type=Const>, <tf.Operation 'x2' type=Const>]\n",
            "[<tf.Operation 'Const' type=Const>, <tf.Operation 'Const_1' type=Const>, <tf.Operation 'Add' type=Add>, <tf.Operation 'Const_2' type=Const>, <tf.Operation 'Const_3' type=Const>, <tf.Operation 'Add_1' type=Add>, <tf.Operation 'Placeholder' type=Placeholder>, <tf.Operation 'Add_2' type=Add>, <tf.Operation 'x1' type=Const>, <tf.Operation 'x2' type=Const>, <tf.Operation 'y' type=Add>]\n"
          ],
          "name": "stdout"
        }
      ]
    },
    {
      "metadata": {
        "id": "Cg3_IbM5FNUi",
        "colab_type": "code",
        "colab": {
          "base_uri": "https://localhost:8080/",
          "height": 36
        },
        "outputId": "b10cb721-b906-4764-9058-9f65f87a89a4"
      },
      "cell_type": "code",
      "source": [
        "# different types of initializer for the variables.\n",
        "x1 = tf.Variable(4)\n",
        "x2 = tf.Variable(5)\n",
        "x1_init = x1.initializer\n",
        "x2_init = x2.initializer\n",
        "y  = tf.add(x1,x2)\n",
        "\n",
        "var_init = tf.global_variables_initializer()\n",
        "\n",
        "with tf.Session() as s1:\n",
        "  #s1.run(x1.initializer)\n",
        "  #s1.run(x2.initializer)\n",
        "  #s1.run(x1_init)\n",
        "  #s1.run(x2_init)\n",
        "  s1.run(var_init)\n",
        "  print(y.eval())"
      ],
      "execution_count": 6,
      "outputs": [
        {
          "output_type": "stream",
          "text": [
            "9\n"
          ],
          "name": "stdout"
        }
      ]
    },
    {
      "metadata": {
        "id": "Ep5xx8fqFZ2I",
        "colab_type": "code",
        "colab": {
          "base_uri": "https://localhost:8080/",
          "height": 73
        },
        "outputId": "baec8e3b-e5a2-475f-dcac-ea181a066c99"
      },
      "cell_type": "code",
      "source": [
        "x = tf.placeholder(tf.int32)\n",
        "s = tf.add(x,1)\n",
        "t = tf.subtract(x,1)\n",
        "z = tf.add(s,t)\n",
        "\n",
        "with tf.Session() as s1:\n",
        "  print(s.eval({x:[1,2,3,4,5,6]}))\n",
        "  print(t.eval({x:[1,2,3,4,5,6]}))\n",
        "  print(z.eval({x:[1,2,3,4,5,6]}))\n"
      ],
      "execution_count": 7,
      "outputs": [
        {
          "output_type": "stream",
          "text": [
            "[2 3 4 5 6 7]\n",
            "[0 1 2 3 4 5]\n",
            "[ 2  4  6  8 10 12]\n"
          ],
          "name": "stdout"
        }
      ]
    },
    {
      "metadata": {
        "id": "wvmKabvFIA_E",
        "colab_type": "code",
        "colab": {}
      },
      "cell_type": "code",
      "source": [
        ""
      ],
      "execution_count": 0,
      "outputs": []
    }
  ]
}